{
 "cells": [
  {
   "cell_type": "code",
   "execution_count": 1,
   "metadata": {},
   "outputs": [
    {
     "name": "stderr",
     "output_type": "stream",
     "text": [
      "C:\\Users\\Rohith\\Anaconda3\\envs\\projects\\lib\\site-packages\\h5py\\__init__.py:36: FutureWarning: Conversion of the second argument of issubdtype from `float` to `np.floating` is deprecated. In future, it will be treated as `np.float64 == np.dtype(float).type`.\n",
      "  from ._conv import register_converters as _register_converters\n",
      "Using TensorFlow backend.\n"
     ]
    }
   ],
   "source": [
    "import keras\n",
    "from keras.datasets import mnist\n",
    "from keras.models import Sequential\n",
    "from keras.layers import Dense, Dropout, Flatten\n",
    "from keras.layers import Conv2D, MaxPooling2D\n",
    "from keras import backend as K\n",
    "\n",
    "(x_train, y_train), (x_test, y_test) = mnist.load_data()\n",
    "\n",
    "img_rows, img_cols = 28, 28\n",
    "\n",
    "if K.image_data_format() == 'channels_first':\n",
    "    x_train = x_train.reshape(x_train.shape[0], 1, img_rows, img_cols)\n",
    "    x_test = x_test.reshape(x_test.shape[0], 1, img_rows, img_cols)\n",
    "    input_shape = (1, img_rows, img_cols)\n",
    "else:\n",
    "    x_train = x_train.reshape(x_train.shape[0], img_rows, img_cols, 1)\n",
    "    x_test = x_test.reshape(x_test.shape[0], img_rows, img_cols, 1)\n",
    "    input_shape = (img_rows, img_cols, 1)\n",
    "\n",
    "x_train = x_train.astype('float32')\n",
    "x_test = x_test.astype('float32')\n",
    "x_train /= 255\n",
    "x_test /= 255\n"
   ]
  },
  {
   "cell_type": "code",
   "execution_count": 2,
   "metadata": {},
   "outputs": [],
   "source": [
    "import numpy as np\n",
    "\n",
    "temp = []\n",
    "for img in x_train:\n",
    "    t = []\n",
    "    for row in img:\n",
    "        for i in row:\n",
    "            t.append(i)\n",
    "    temp.append(t)\n",
    "x_train = []\n",
    "x_train = temp\n",
    "\n",
    "x_train = np.array(x_train)\n",
    "\n"
   ]
  },
  {
   "cell_type": "code",
   "execution_count": 10,
   "metadata": {},
   "outputs": [
    {
     "name": "stdout",
     "output_type": "stream",
     "text": [
      "Epoch 1/10\n",
      "60000/60000 [==============================] - 12s 204us/step - loss: 0.0541 - acc: 0.0104\n",
      "Epoch 2/10\n",
      "60000/60000 [==============================] - 12s 202us/step - loss: 0.0310 - acc: 0.0122\n",
      "Epoch 3/10\n",
      "60000/60000 [==============================] - 12s 197us/step - loss: 0.0259 - acc: 0.0124\n",
      "Epoch 4/10\n",
      "60000/60000 [==============================] - 12s 202us/step - loss: 0.0233 - acc: 0.0124\n",
      "Epoch 5/10\n",
      "60000/60000 [==============================] - 12s 203us/step - loss: 0.0214 - acc: 0.0124\n",
      "Epoch 6/10\n",
      "60000/60000 [==============================] - 12s 203us/step - loss: 0.0199 - acc: 0.0128\n",
      "Epoch 7/10\n",
      "60000/60000 [==============================] - 12s 203us/step - loss: 0.0190 - acc: 0.0126\n",
      "Epoch 8/10\n",
      "60000/60000 [==============================] - 12s 202us/step - loss: 0.0180 - acc: 0.0131\n",
      "Epoch 9/10\n",
      "60000/60000 [==============================] - 13s 208us/step - loss: 0.0173 - acc: 0.0129\n",
      "Epoch 10/10\n",
      "60000/60000 [==============================] - 13s 221us/step - loss: 0.0167 - acc: 0.01321s \n"
     ]
    }
   ],
   "source": [
    "x_train = x_train.reshape(60000,784)\n",
    "\n",
    "model = Sequential()\n",
    "#model.add(Flatten(input_dim=(28,28,1)))\n",
    "model.add(Dense(784,activation='relu',input_dim=784))\n",
    "model.add(Dense(256,activation='relu'))\n",
    "model.add(Dense(128,activation='relu'))\n",
    "model.add(Dense(256,activation='relu'))\n",
    "model.add(Dense(784,activation='relu'))\n",
    "\n",
    "model.compile(loss=keras.losses.mean_squared_error,\n",
    "             optimizer=keras.optimizers.RMSprop(lr=0.0001, rho=0.9, epsilon=None, decay=0.0),\n",
    "             metrics = ['accuracy'])\n",
    "\n",
    "model.fit(x_train,x_train,verbose=1,epochs=10,batch_size=256)\n",
    "model.save('C:\\\\Users\\\\Rohith\\\\Documents\\\\Rohith_Stuff\\\\Datasets\\\\auto_en.h5')\n",
    "del model"
   ]
  },
  {
   "cell_type": "code",
   "execution_count": 18,
   "metadata": {},
   "outputs": [],
   "source": [
    "from keras.models import load_model\n",
    "import cv2\n",
    "\n",
    "model = load_model('C:\\\\Users\\\\Rohith\\\\Documents\\\\Rohith_Stuff\\\\Datasets\\\\auto_en.h5')\n",
    "\n",
    "test = x_train[1].reshape(1,784)\n",
    "y_test = model.predict(test)\n",
    "#print(test)\n",
    "#print(y_test)"
   ]
  },
  {
   "cell_type": "code",
   "execution_count": 19,
   "metadata": {},
   "outputs": [
    {
     "data": {
      "text/plain": [
       "-1"
      ]
     },
     "execution_count": 19,
     "metadata": {},
     "output_type": "execute_result"
    }
   ],
   "source": [
    "inp_img = []\n",
    "temp = []\n",
    "for i in range(len(test[0])):\n",
    "    if((i+1)%28 == 0):\n",
    "        temp.append(test[0][i])\n",
    "        inp_img.append(temp)\n",
    "        temp = []\n",
    "    else:\n",
    "        temp.append(test[0][i])\n",
    "out_img = []\n",
    "temp = []\n",
    "for i in range(len(y_test[0])):\n",
    "    if((i+1)%28 == 0):\n",
    "        temp.append(y_test[0][i])\n",
    "        out_img.append(temp)\n",
    "        temp = []\n",
    "    else:\n",
    "        temp.append(y_test[0][i])\n",
    "        \n",
    "inp_img = np.array(inp_img)\n",
    "out_img = np.array(out_img)\n",
    "        \n",
    "cv2.imshow('Test Image',inp_img)\n",
    "cv2.imshow('Output Image',out_img)\n",
    "cv2.waitKey(0)\n",
    "        "
   ]
  },
  {
   "cell_type": "code",
   "execution_count": null,
   "metadata": {},
   "outputs": [],
   "source": []
  }
 ],
 "metadata": {
  "kernelspec": {
   "display_name": "Python 3",
   "language": "python",
   "name": "python3"
  },
  "language_info": {
   "codemirror_mode": {
    "name": "ipython",
    "version": 3
   },
   "file_extension": ".py",
   "mimetype": "text/x-python",
   "name": "python",
   "nbconvert_exporter": "python",
   "pygments_lexer": "ipython3",
   "version": "3.6.4"
  }
 },
 "nbformat": 4,
 "nbformat_minor": 2
}
